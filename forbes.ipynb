{
 "cells": [
  {
   "cell_type": "code",
   "execution_count": 198,
   "metadata": {},
   "outputs": [],
   "source": [
    "#importar librerias para limpieza de data\n",
    "import os \n",
    "import numpy as np \n",
    "import pandas as pd \n",
    "import matplotlib.pyplot as plt"
   ]
  },
  {
   "cell_type": "code",
   "execution_count": 188,
   "metadata": {},
   "outputs": [],
   "source": [
    "#Generar la ruta a el archivo CSV\n",
    "FILE_NAME = \"Forbes 2000 2022.csv\"\n",
    "PATH_TO_DATA_SET = \"Data_set\"\n",
    "\n",
    "cdw = os.getcwd()\n",
    "file_path = os.path.join(cdw, PATH_TO_DATA_SET, FILE_NAME)\n"
   ]
  },
  {
   "cell_type": "code",
   "execution_count": 189,
   "metadata": {},
   "outputs": [],
   "source": [
    "#importar el archivo CSV, limpiar la col vacia y renombrar las columnas\n",
    "forbes22 = pd.read_csv(file_path,encoding= 'UTF_8',sep=';')\n",
    "forbes22 = forbes22.drop(\"Unnamed: 7\",axis=1)\n",
    "forbes22.columns = ['Rank', 'Company Name', 'Country', 'Sales', 'Profits', 'Assets', 'Market_Value']"
   ]
  },
  {
   "cell_type": "code",
   "execution_count": 190,
   "metadata": {},
   "outputs": [
    {
     "name": "stdout",
     "output_type": "stream",
     "text": [
      "<class 'pandas.core.frame.DataFrame'>\n",
      "RangeIndex: 2000 entries, 0 to 1999\n",
      "Data columns (total 7 columns):\n",
      " #   Column        Non-Null Count  Dtype \n",
      "---  ------        --------------  ----- \n",
      " 0   Rank          2000 non-null   int64 \n",
      " 1   Company Name  2000 non-null   object\n",
      " 2   Country       2000 non-null   object\n",
      " 3   Sales         2000 non-null   object\n",
      " 4   Profits       2000 non-null   object\n",
      " 5   Assets        2000 non-null   object\n",
      " 6   Market_Value  2000 non-null   object\n",
      "dtypes: int64(1), object(6)\n",
      "memory usage: 109.5+ KB\n"
     ]
    },
    {
     "data": {
      "text/plain": [
       "Rank            False\n",
       "Company Name    False\n",
       "Country         False\n",
       "Sales           False\n",
       "Profits         False\n",
       "Assets          False\n",
       "Market_Value    False\n",
       "dtype: bool"
      ]
     },
     "execution_count": 190,
     "metadata": {},
     "output_type": "execute_result"
    }
   ],
   "source": [
    "#comprobación de los tipos de datos, veridicación de NAN y  '-'\n",
    "forbes22.info()\n",
    "forbes22.isna().any()\n",
    "forbes22.isin(['-']).any()"
   ]
  },
  {
   "cell_type": "code",
   "execution_count": 191,
   "metadata": {},
   "outputs": [
    {
     "name": "stdout",
     "output_type": "stream",
     "text": [
      "<class 'pandas.core.frame.DataFrame'>\n",
      "RangeIndex: 2000 entries, 0 to 1999\n",
      "Data columns (total 7 columns):\n",
      " #   Column        Non-Null Count  Dtype  \n",
      "---  ------        --------------  -----  \n",
      " 0   Rank          2000 non-null   int64  \n",
      " 1   Company Name  2000 non-null   object \n",
      " 2   Country       2000 non-null   object \n",
      " 3   Sales         2000 non-null   float64\n",
      " 4   Profits       2000 non-null   float64\n",
      " 5   Assets        2000 non-null   float64\n",
      " 6   Market_Value  2000 non-null   float64\n",
      "dtypes: float64(4), int64(1), object(2)\n",
      "memory usage: 109.5+ KB\n"
     ]
    }
   ],
   "source": [
    "#limpieza de las columnas numericas y transformacion a tipo float\n",
    "\n",
    "numeric_cols =['Sales','Profits','Assets', 'Market_Value']\n",
    "forbes22[numeric_cols]  = forbes22[numeric_cols].replace('[^0-9]', '', regex=True).astype(float)\n",
    "#verificacion de cambio\n",
    "forbes22.info()"
   ]
  },
  {
   "cell_type": "code",
   "execution_count": 192,
   "metadata": {},
   "outputs": [
    {
     "data": {
      "text/plain": [
       "(2000, 23876.035, 40943.9022916259, 1676403134.8662083)"
      ]
     },
     "execution_count": 192,
     "metadata": {},
     "output_type": "execute_result"
    }
   ],
   "source": [
    "#calculos numericos con loa data limpia\n",
    "forbes22['Sales'].count(), forbes22['Sales'].mean(), forbes22['Sales'].std(), forbes22['Sales'].var() \n"
   ]
  },
  {
   "cell_type": "code",
   "execution_count": 193,
   "metadata": {},
   "outputs": [
    {
     "data": {
      "text/plain": [
       "Rank            0\n",
       "Company Name    0\n",
       "Country         0\n",
       "Sales           0\n",
       "Profits         0\n",
       "Assets          0\n",
       "Market_Value    0\n",
       "dtype: int64"
      ]
     },
     "execution_count": 193,
     "metadata": {},
     "output_type": "execute_result"
    }
   ],
   "source": [
    "#comprobra de la cantidad de valores vacios\n",
    "forbes22.isna().sum()"
   ]
  },
  {
   "cell_type": "code",
   "execution_count": 203,
   "metadata": {},
   "outputs": [
    {
     "name": "stdout",
     "output_type": "stream",
     "text": [
      "[ 653. 1120. 2390.]\n"
     ]
    },
    {
     "data": {
      "text/plain": [
       "0.25     653.0\n",
       "0.50    1120.0\n",
       "0.75    2390.0\n",
       "Name: Profits, dtype: float64"
      ]
     },
     "execution_count": 203,
     "metadata": {},
     "output_type": "execute_result"
    }
   ],
   "source": [
    "print(np.percentile(forbes22['Profits'],[25,50,75]))\n",
    "\n",
    "forbes22['Profits'].quantile([0.25,0.5,0.75])"
   ]
  },
  {
   "cell_type": "code",
   "execution_count": 197,
   "metadata": {},
   "outputs": [
    {
     "data": {
      "text/plain": [
       "23635.099999999995"
      ]
     },
     "execution_count": 197,
     "metadata": {},
     "output_type": "execute_result"
    }
   ],
   "source": [
    "# Valorar el 1% de las empresas con mas ganancias en el mundo /percentil 99\n",
    "\n",
    "p99p = np.percentile(forbes22['Profits'],99)\n",
    "p99p"
   ]
  },
  {
   "cell_type": "code",
   "execution_count": 200,
   "metadata": {},
   "outputs": [],
   "source": [
    "#definimos algunos nombres de paises de sur america, para filtrarlos del data set\n",
    "suda = ['Argentina','Bolivia','Brazil','Chile','Colombia','Ecuador','Paraguay','Peru','Uruguay','Venezuela']\n",
    "f_suda = forbes22[forbes22['Country'].isin(suda)]"
   ]
  },
  {
   "cell_type": "code",
   "execution_count": 212,
   "metadata": {},
   "outputs": [
    {
     "data": {
      "image/png": "[encoded data removed]",
      "text/plain": [
       "<Figure size 640x480 with 1 Axes>"
      ]
     },
     "metadata": {},
     "output_type": "display_data"
    }
   ],
   "source": [
    "# Bar plot\n",
    "table_suda=f_suda['Country'].value_counts()\n",
    "table_suda\n",
    "\n",
    "plt.bar(table_suda.index,table_suda.values, color = 'green', alpha = 0.8, edgecolor = 'gray') #Crea el gráfico de barras\n",
    "plt.title('Frecuencia de empresas sudamericanas')\n",
    "plt.xlabel('Paises sudamericanos')\n",
    "plt.ylabel('Frecuencia absoluta')\n",
    "plt.grid(color = 'gray',alpha = 0.3, linestyle = 'solid')\n",
    "\n",
    "plt.show() #Imprime el gráfico"
   ]
  }
 ],
 "metadata": {
  "kernelspec": {
   "display_name": "Python 3",
   "language": "python",
   "name": "python3"
  },
  "language_info": {
   "codemirror_mode": {
    "name": "ipython",
    "version": 3
   },
   "file_extension": ".py",
   "mimetype": "text/x-python",
   "name": "python",
   "nbconvert_exporter": "python",
   "pygments_lexer": "ipython3",
   "version": "3.10.1"
  },
  "orig_nbformat": 4
 },
 "nbformat": 4,
 "nbformat_minor": 2
}
